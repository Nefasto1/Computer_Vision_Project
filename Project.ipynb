{
 "cells": [
  {
   "cell_type": "code",
   "execution_count": 1,
   "id": "0f512907-ab54-420a-9c81-d728337576be",
   "metadata": {},
   "outputs": [],
   "source": [
    "import torch as th\n",
    "\n",
    "from torchvision import transforms\n",
    "\n",
    "import matplotlib.pyplot as plt"
   ]
  },
  {
   "cell_type": "code",
   "execution_count": 2,
   "id": "5815d6b8-6b8d-4b7c-899e-e79134421c33",
   "metadata": {},
   "outputs": [],
   "source": [
    "from src.dataloader import customDataloader\n",
    "from tqdm import trange"
   ]
  },
  {
   "cell_type": "code",
   "execution_count": 3,
   "id": "e0128e2d-6591-4a07-96d2-11368460b9f8",
   "metadata": {},
   "outputs": [],
   "source": [
    "train_loader = customDataloader(train=True,  transform=None, batch_size=64, shuffle=True)\n",
    "test_loader  = customDataloader(train=False, transform=None, batch_size=64, shuffle=True)"
   ]
  },
  {
   "cell_type": "code",
   "execution_count": 4,
   "id": "8fe13ecb-46ac-4fe0-9744-acc7a574b652",
   "metadata": {},
   "outputs": [],
   "source": [
    "class Baseline(th.nn.Module):\n",
    "    def __init__(self):\n",
    "        super().__init__()\n",
    "\n",
    "        self.net = th.nn.Sequential(\n",
    "            th.nn.Conv2d(in_channels=1, out_channels=8, kernel_size=3),\n",
    "            th.nn.ReLU(),\n",
    "            th.nn.MaxPool2d(kernel_size=2, stride=2),\n",
    "            th.nn.Conv2d(in_channels=8, out_channels=16, kernel_size=3),\n",
    "            th.nn.ReLU(),\n",
    "            th.nn.MaxPool2d(kernel_size=2, stride=2),\n",
    "            th.nn.Conv2d(in_channels=16, out_channels=32, kernel_size=3),\n",
    "            th.nn.ReLU(),\n",
    "            th.nn.Flatten(start_dim=1),\n",
    "            th.nn.Linear(in_features=32*12*12, out_features=15, bias=True),\n",
    "        )\n",
    "\n",
    "    def forward(self, x):\n",
    "        return self.net(x)"
   ]
  },
  {
   "cell_type": "code",
   "execution_count": 8,
   "id": "ad9369a1-e022-43c3-957f-9202da3e3120",
   "metadata": {},
   "outputs": [],
   "source": [
    "def train_loop(model, train_loader, test_loader, criterion, optimizer, num_epochs=10):\n",
    "    train_losses     = []\n",
    "    test_losses      = []\n",
    "    train_accuracies = []\n",
    "    test_accuracies  = []\n",
    "    \n",
    "    # model.to(device)\n",
    "    bar = trange(num_epochs)\n",
    "    \n",
    "    for epoch in bar:\n",
    "        model.train()\n",
    "        running_loss        = 0.0\n",
    "        correct_predictions = 0.0\n",
    "        total_samples = 0.0\n",
    "        \n",
    "        for X, y in train_loader:\n",
    "            X, y = X.float(), y.float()\n",
    "            \n",
    "            # Zero the parameter gradients\n",
    "            optimizer.zero_grad()\n",
    "            \n",
    "            # Forward pass\n",
    "            y_hat = model(X)\n",
    "            loss = criterion(y_hat, y)\n",
    "            \n",
    "            # Backward pass and optimization\n",
    "            loss.backward()\n",
    "            optimizer.step()\n",
    "\n",
    "            y_hat = y_hat.argmax(1)\n",
    "            y_true = y.argmax(1)\n",
    "            correct_predictions += (y_hat == y_true).sum().item()\n",
    "            total_samples += y_true.size(0)\n",
    "            \n",
    "            running_loss += loss.item()\n",
    "\n",
    "        # Calculate and print epoch loss\n",
    "        train_loss = running_loss / len(train_loader)\n",
    "        train_acc  = correct_predictions / total_samples\n",
    "\n",
    "        running_loss        = 0.0\n",
    "        correct_predictions = 0.0\n",
    "        total_samples = 0.0\n",
    "        \n",
    "        with th.no_grad():\n",
    "            for X, y in test_loader:\n",
    "                X, y = X.float(), y.float()\n",
    "                \n",
    "                # Zero the parameter gradients\n",
    "                optimizer.zero_grad()\n",
    "                \n",
    "                # Forward pass\n",
    "                y_hat = model(X)\n",
    "                loss = criterion(y_hat, y)\n",
    "                \n",
    "                y_hat = y_hat.argmax(1)\n",
    "                y_true = y.argmax(1)\n",
    "                correct_predictions += (y_hat == y_true).sum().item()\n",
    "                total_samples += y_true.size(0)\n",
    "                \n",
    "                running_loss += loss.item()\n",
    "                \n",
    "        test_loss = running_loss / len(test_loader)\n",
    "        test_acc  = correct_predictions / total_samples\n",
    "\n",
    "        train_losses.append(train_loss)\n",
    "        test_losses.append(test_loss)\n",
    "        train_accuracies.append(train_acc)\n",
    "        test_accuracies.append(test_acc)\n",
    "\n",
    "        bar.set_postfix({\"Train Loss\": train_loss, \n",
    "                        \"Test Loss\": test_loss,\n",
    "                        \"Train Acc\": train_acc, \n",
    "                        \"Test Acc\": test_acc})\n",
    "\n",
    "    return train_losses, test_losses, train_accuracies, test_accuracies"
   ]
  },
  {
   "cell_type": "code",
   "execution_count": 6,
   "id": "cc5ee59d-0d5f-49ec-8b2f-dddc3564d610",
   "metadata": {},
   "outputs": [],
   "source": [
    "model = Baseline()\n",
    "criterion = th.nn.CrossEntropyLoss()\n",
    "optimizer = th.optim.Adam(model.parameters(), lr=0.001)"
   ]
  },
  {
   "cell_type": "code",
   "execution_count": 9,
   "id": "31316003-e5d7-424d-b063-83b05ffe3dcf",
   "metadata": {},
   "outputs": [
    {
     "name": "stderr",
     "output_type": "stream",
     "text": [
      "100%|█| 10/10 [00:20<00:00,  2.04s/it, Train Loss=0.0738, Test Loss=4.11, Train Acc=0.989, T\n"
     ]
    },
    {
     "data": {
      "text/plain": [
       "([2.1095303942759833,\n",
       "  1.5138242443402607,\n",
       "  1.0294386098782222,\n",
       "  0.7595674420396487,\n",
       "  0.5013731122016907,\n",
       "  0.34685775140921277,\n",
       "  0.22356335942943892,\n",
       "  0.17118993618836006,\n",
       "  0.10774062775696318,\n",
       "  0.07377193480109175],\n",
       " [2.4137590743125754,\n",
       "  2.375284747874483,\n",
       "  2.6018372748760465,\n",
       "  2.7619812995829482,\n",
       "  3.1502200999158494,\n",
       "  3.3758714858521808,\n",
       "  3.81685009915778,\n",
       "  3.786969281257467,\n",
       "  4.156646063987245,\n",
       "  4.11318536007658],\n",
       " [0.33466666666666667,\n",
       "  0.528,\n",
       "  0.68,\n",
       "  0.7693333333333333,\n",
       "  0.86,\n",
       "  0.9073333333333333,\n",
       "  0.9506666666666667,\n",
       "  0.964,\n",
       "  0.982,\n",
       "  0.9886666666666667],\n",
       " [0.2455611390284757,\n",
       "  0.26532663316582916,\n",
       "  0.27872696817420434,\n",
       "  0.29279731993299835,\n",
       "  0.28509212730318256,\n",
       "  0.29346733668341707,\n",
       "  0.28710217755443884,\n",
       "  0.3082077051926298,\n",
       "  0.2984924623115578,\n",
       "  0.30954773869346736])"
      ]
     },
     "execution_count": 9,
     "metadata": {},
     "output_type": "execute_result"
    }
   ],
   "source": [
    "train_loop(model, train_loader, test_loader, criterion, optimizer, num_epochs=10)"
   ]
  }
 ],
 "metadata": {
  "kernelspec": {
   "display_name": "Python 3 (ipykernel)",
   "language": "python",
   "name": "python3"
  },
  "language_info": {
   "codemirror_mode": {
    "name": "ipython",
    "version": 3
   },
   "file_extension": ".py",
   "mimetype": "text/x-python",
   "name": "python",
   "nbconvert_exporter": "python",
   "pygments_lexer": "ipython3",
   "version": "3.12.7"
  }
 },
 "nbformat": 4,
 "nbformat_minor": 5
}
