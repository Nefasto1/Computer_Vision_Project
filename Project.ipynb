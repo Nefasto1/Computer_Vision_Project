{
 "cells": [
  {
   "cell_type": "code",
   "execution_count": 98,
   "id": "0f512907-ab54-420a-9c81-d728337576be",
   "metadata": {},
   "outputs": [],
   "source": [
    "import torch as th\n",
    "\n",
    "from torchvision import transforms\n",
    "\n",
    "import matplotlib.pyplot as plt"
   ]
  },
  {
   "cell_type": "code",
   "execution_count": null,
   "id": "5815d6b8-6b8d-4b7c-899e-e79134421c33",
   "metadata": {},
   "outputs": [],
   "source": [
    "from src.dataloader import customDataloader"
   ]
  },
  {
   "cell_type": "code",
   "execution_count": 100,
   "id": "e0128e2d-6591-4a07-96d2-11368460b9f8",
   "metadata": {},
   "outputs": [],
   "source": [
    "train_loader = customDataloader(train=True,  transform=None, batch_size=64, shuffle=True)\n",
    "test_loader  = customDataloader(train=False, transform=None, batch_size=64, shuffle=True)"
   ]
  },
  {
   "cell_type": "code",
   "execution_count": null,
   "id": "92a132f8-a8e9-43c9-8c04-d15e10274832",
   "metadata": {},
   "outputs": [],
   "source": []
  }
 ],
 "metadata": {
  "kernelspec": {
   "display_name": "Python 3 (ipykernel)",
   "language": "python",
   "name": "python3"
  },
  "language_info": {
   "codemirror_mode": {
    "name": "ipython",
    "version": 3
   },
   "file_extension": ".py",
   "mimetype": "text/x-python",
   "name": "python",
   "nbconvert_exporter": "python",
   "pygments_lexer": "ipython3",
   "version": "3.12.7"
  }
 },
 "nbformat": 4,
 "nbformat_minor": 5
}
